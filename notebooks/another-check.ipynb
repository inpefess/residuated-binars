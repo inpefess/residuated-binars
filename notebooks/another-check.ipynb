{
 "cells": [
  {
   "cell_type": "code",
   "execution_count": 29,
   "id": "5c33f50e",
   "metadata": {
    "collapsed": false
   },
   "outputs": [],
   "source": [
    "import pickle\n",
    "\n",
    "with open(\"/home/boris/Downloads/binars.pkl\", \"rb\") as f:\n",
    "    binars = pickle.load(f)\n",
    "bads = [list(), list(), list(), list(), list(), list()]"
   ]
  },
  {
   "cell_type": "code",
   "execution_count": 30,
   "id": "9de9deaf",
   "metadata": {
    "collapsed": false
   },
   "outputs": [
    {
     "name": "stdout",
     "output_type": "stream",
     "text": [
      "3 2 2 8\n",
      "[[], [], [], ['*^'], [], []]\n"
     ]
    }
   ],
   "source": [
    "for i, binar in enumerate(binars):\n",
    "    bad = False\n",
    "    for x in range(10):\n",
    "        for y in range(10):\n",
    "            for z in range(10):\n",
    "                if (binar[\"*\"][x][binar[\"^\"][y][z]] != binar[\"^\"][binar[\"*\"][x][y]][binar[\"*\"][x][z]]):\n",
    "                    bad = True\n",
    "                    print(i, x, y, z)\n",
    "                    bads[i].append(\"*^\")\n",
    "                    break\n",
    "            if bad:\n",
    "                break\n",
    "        if bad:\n",
    "            break\n",
    "print(bads)"
   ]
  },
  {
   "cell_type": "code",
   "execution_count": 31,
   "id": "905593c0",
   "metadata": {
    "collapsed": false
   },
   "outputs": [
    {
     "name": "stdout",
     "output_type": "stream",
     "text": [
      "4 3 9 2\n",
      "[[], [], [], ['*^'], ['^*'], []]\n"
     ]
    }
   ],
   "source": [
    "for i, binar in enumerate(binars):\n",
    "    bad = False\n",
    "    for x in range(10):\n",
    "        for y in range(10):\n",
    "            for z in range(10):\n",
    "                if (binar[\"*\"][binar[\"^\"][x][y]][z] != binar[\"^\"][binar[\"*\"][x][z]][binar[\"*\"][y][z]]):\n",
    "                    bad = True\n",
    "                    print(i, x, y, z)\n",
    "                    bads[i].append(\"^*\")\n",
    "                    break\n",
    "            if bad:\n",
    "                break\n",
    "        if bad:\n",
    "            break\n",
    "print(bads)"
   ]
  },
  {
   "cell_type": "code",
   "execution_count": 32,
   "id": "c2815643",
   "metadata": {
    "collapsed": false
   },
   "outputs": [
    {
     "name": "stdout",
     "output_type": "stream",
     "text": [
      "5 6 3 7\n",
      "[[], [], [], ['*^'], ['^*'], ['\\\\v']]\n"
     ]
    }
   ],
   "source": [
    "for i, binar in enumerate(binars):\n",
    "    bad = False\n",
    "    for x in range(10):\n",
    "        for y in range(10):\n",
    "            for z in range(10):\n",
    "                if (binar[\"\\\\\"][x][binar[\"v\"][y][z]] != binar[\"v\"][binar[\"\\\\\"][x][y]][binar[\"\\\\\"][x][z]]):\n",
    "                    bad = True\n",
    "                    print(i, x, y, z)\n",
    "                    bads[i].append(\"\\\\v\")\n",
    "                    break\n",
    "            if bad:\n",
    "                break\n",
    "        if bad:\n",
    "            break\n",
    "print(bads)"
   ]
  },
  {
   "cell_type": "code",
   "execution_count": 33,
   "id": "05c0a7b2",
   "metadata": {
    "collapsed": false
   },
   "outputs": [
    {
     "name": "stdout",
     "output_type": "stream",
     "text": [
      "0 4 8 1\n",
      "[['/v'], [], [], ['*^'], ['^*'], ['\\\\v']]\n"
     ]
    }
   ],
   "source": [
    "for i, binar in enumerate(binars):\n",
    "    bad = False\n",
    "    for x in range(10):\n",
    "        for y in range(10):\n",
    "            for z in range(10):\n",
    "                if (binar[\"/\"][binar[\"v\"][x][y]][z] != binar[\"v\"][binar[\"/\"][x][z]][binar[\"/\"][y][z]]):\n",
    "                    bad = True\n",
    "                    print(i, x, y, z)\n",
    "                    bads[i].append(\"/v\")\n",
    "                    break\n",
    "            if bad:\n",
    "                break\n",
    "        if bad:\n",
    "            break\n",
    "print(bads)"
   ]
  },
  {
   "cell_type": "code",
   "execution_count": 34,
   "id": "5b41962b",
   "metadata": {
    "collapsed": false
   },
   "outputs": [
    {
     "name": "stdout",
     "output_type": "stream",
     "text": [
      "2 2 9 1\n",
      "[['/v'], [], ['\\\\^'], ['*^'], ['^*'], ['\\\\v']]\n"
     ]
    }
   ],
   "source": [
    "for i, binar in enumerate(binars):\n",
    "    bad = False\n",
    "    for x in range(10):\n",
    "        for y in range(10):\n",
    "            for z in range(10):\n",
    "                if (binar[\"\\\\\"][binar[\"^\"][x][y]][z] != binar[\"v\"][binar[\"\\\\\"][x][z]][binar[\"\\\\\"][y][z]]):\n",
    "                    bad = True\n",
    "                    print(i, x, y, z)\n",
    "                    bads[i].append(\"\\\\^\")\n",
    "                    break\n",
    "            if bad:\n",
    "                break\n",
    "        if bad:\n",
    "            break\n",
    "print(bads)"
   ]
  },
  {
   "cell_type": "code",
   "execution_count": 35,
   "id": "091d5058",
   "metadata": {
    "collapsed": false
   },
   "outputs": [
    {
     "name": "stdout",
     "output_type": "stream",
     "text": [
      "1 1 7 8\n",
      "[['/v'], ['/^'], ['\\\\^'], ['*^'], ['^*'], ['\\\\v']]\n"
     ]
    }
   ],
   "source": [
    "for i, binar in enumerate(binars):\n",
    "    bad = False\n",
    "    for x in range(10):\n",
    "        for y in range(10):\n",
    "            for z in range(10):\n",
    "                if (binar[\"/\"][x][binar[\"^\"][y][z]] != binar[\"v\"][binar[\"/\"][x][y]][binar[\"/\"][x][z]]):\n",
    "                    bad = True\n",
    "                    print(i, x, y, z)\n",
    "                    bads[i].append(\"/^\")\n",
    "                    break\n",
    "            if bad:\n",
    "                break\n",
    "        if bad:\n",
    "            break\n",
    "print(bads)"
   ]
  },
  {
   "cell_type": "code",
   "execution_count": null,
   "id": "a6f62fce",
   "metadata": {
    "collapsed": false
   },
   "outputs": [],
   "source": []
  }
 ],
 "metadata": {
  "kernelspec": {
   "argv": [
    "python",
    "-m",
    "ipykernel_launcher",
    "-f",
    "{connection_file}"
   ],
   "display_name": "Python 3",
   "env": null,
   "interrupt_mode": "signal",
   "language": "python",
   "metadata": null,
   "name": "python3"
  },
  "language_info": {
   "codemirror_mode": {
    "name": "ipython",
    "version": 3
   },
   "file_extension": ".py",
   "mimetype": "text/x-python",
   "name": "python",
   "nbconvert_exporter": "python",
   "pygments_lexer": "ipython3",
   "version": "3.6.14"
  },
  "name": "Untitled1.ipynb"
 },
 "nbformat": 4,
 "nbformat_minor": 5
}
