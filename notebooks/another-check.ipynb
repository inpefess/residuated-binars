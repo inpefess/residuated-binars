{
 "cells": [
  {
   "cell_type": "code",
   "execution_count": null,
   "id": "a65f6e77",
   "metadata": {
    "collapsed": false
   },
   "outputs": [],
   "source": [
    "\"\"\"\n",
    "    A set of scripts  for automated reasoning in residuated binars\n",
    "    Copyright (C) 2021  Boris Shminke\n",
    "\n",
    "    This program is free software: you can redistribute it and/or modify\n",
    "    it under the terms of the GNU General Public License as published by\n",
    "    the Free Software Foundation, either version 3 of the License, or\n",
    "    (at your option) any later version.\n",
    "\n",
    "    This program is distributed in the hope that it will be useful,\n",
    "    but WITHOUT ANY WARRANTY; without even the implied warranty of\n",
    "    MERCHANTABILITY or FITNESS FOR A PARTICULAR PURPOSE.  See the\n",
    "    GNU General Public License for more details.\n",
    "\n",
    "    You should have received a copy of the GNU General Public License\n",
    "    along with this program.  If not, see <https://www.gnu.org/licenses/>.\n",
    "\"\"\""
   ]
  },
  {
   "cell_type": "code",
   "execution_count": 29,
   "id": "d982ce45",
   "metadata": {
    "collapsed": false
   },
   "outputs": [],
   "source": [
    "import pickle\n",
    "\n",
    "with open(\"/home/boris/Downloads/binars.pkl\", \"rb\") as f:\n",
    "    binars = pickle.load(f)\n",
    "bads = [list(), list(), list(), list(), list(), list()]"
   ]
  },
  {
   "cell_type": "code",
   "execution_count": 30,
   "id": "3d3d4695",
   "metadata": {
    "collapsed": false
   },
   "outputs": [
    {
     "name": "stdout",
     "output_type": "stream",
     "text": [
      "3 2 2 8\n",
      "[[], [], [], ['*^'], [], []]\n"
     ]
    }
   ],
   "source": [
    "for i, binar in enumerate(binars):\n",
    "    bad = False\n",
    "    for x in range(10):\n",
    "        for y in range(10):\n",
    "            for z in range(10):\n",
    "                if (binar[\"*\"][x][binar[\"^\"][y][z]] != binar[\"^\"][binar[\"*\"][x][y]][binar[\"*\"][x][z]]):\n",
    "                    bad = True\n",
    "                    print(i, x, y, z)\n",
    "                    bads[i].append(\"*^\")\n",
    "                    break\n",
    "            if bad:\n",
    "                break\n",
    "        if bad:\n",
    "            break\n",
    "print(bads)"
   ]
  },
  {
   "cell_type": "code",
   "execution_count": 31,
   "id": "0870ca9e",
   "metadata": {
    "collapsed": false
   },
   "outputs": [
    {
     "name": "stdout",
     "output_type": "stream",
     "text": [
      "4 3 9 2\n",
      "[[], [], [], ['*^'], ['^*'], []]\n"
     ]
    }
   ],
   "source": [
    "for i, binar in enumerate(binars):\n",
    "    bad = False\n",
    "    for x in range(10):\n",
    "        for y in range(10):\n",
    "            for z in range(10):\n",
    "                if (binar[\"*\"][binar[\"^\"][x][y]][z] != binar[\"^\"][binar[\"*\"][x][z]][binar[\"*\"][y][z]]):\n",
    "                    bad = True\n",
    "                    print(i, x, y, z)\n",
    "                    bads[i].append(\"^*\")\n",
    "                    break\n",
    "            if bad:\n",
    "                break\n",
    "        if bad:\n",
    "            break\n",
    "print(bads)"
   ]
  },
  {
   "cell_type": "code",
   "execution_count": 32,
   "id": "6e7cddce",
   "metadata": {
    "collapsed": false
   },
   "outputs": [
    {
     "name": "stdout",
     "output_type": "stream",
     "text": [
      "5 6 3 7\n",
      "[[], [], [], ['*^'], ['^*'], ['\\\\v']]\n"
     ]
    }
   ],
   "source": [
    "for i, binar in enumerate(binars):\n",
    "    bad = False\n",
    "    for x in range(10):\n",
    "        for y in range(10):\n",
    "            for z in range(10):\n",
    "                if (binar[\"\\\\\"][x][binar[\"v\"][y][z]] != binar[\"v\"][binar[\"\\\\\"][x][y]][binar[\"\\\\\"][x][z]]):\n",
    "                    bad = True\n",
    "                    print(i, x, y, z)\n",
    "                    bads[i].append(\"\\\\v\")\n",
    "                    break\n",
    "            if bad:\n",
    "                break\n",
    "        if bad:\n",
    "            break\n",
    "print(bads)"
   ]
  },
  {
   "cell_type": "code",
   "execution_count": 33,
   "id": "f94becd2",
   "metadata": {
    "collapsed": false
   },
   "outputs": [
    {
     "name": "stdout",
     "output_type": "stream",
     "text": [
      "0 4 8 1\n",
      "[['/v'], [], [], ['*^'], ['^*'], ['\\\\v']]\n"
     ]
    }
   ],
   "source": [
    "for i, binar in enumerate(binars):\n",
    "    bad = False\n",
    "    for x in range(10):\n",
    "        for y in range(10):\n",
    "            for z in range(10):\n",
    "                if (binar[\"/\"][binar[\"v\"][x][y]][z] != binar[\"v\"][binar[\"/\"][x][z]][binar[\"/\"][y][z]]):\n",
    "                    bad = True\n",
    "                    print(i, x, y, z)\n",
    "                    bads[i].append(\"/v\")\n",
    "                    break\n",
    "            if bad:\n",
    "                break\n",
    "        if bad:\n",
    "            break\n",
    "print(bads)"
   ]
  },
  {
   "cell_type": "code",
   "execution_count": 34,
   "id": "b43cd501",
   "metadata": {
    "collapsed": false
   },
   "outputs": [
    {
     "name": "stdout",
     "output_type": "stream",
     "text": [
      "2 2 9 1\n",
      "[['/v'], [], ['\\\\^'], ['*^'], ['^*'], ['\\\\v']]\n"
     ]
    }
   ],
   "source": [
    "for i, binar in enumerate(binars):\n",
    "    bad = False\n",
    "    for x in range(10):\n",
    "        for y in range(10):\n",
    "            for z in range(10):\n",
    "                if (binar[\"\\\\\"][binar[\"^\"][x][y]][z] != binar[\"v\"][binar[\"\\\\\"][x][z]][binar[\"\\\\\"][y][z]]):\n",
    "                    bad = True\n",
    "                    print(i, x, y, z)\n",
    "                    bads[i].append(\"\\\\^\")\n",
    "                    break\n",
    "            if bad:\n",
    "                break\n",
    "        if bad:\n",
    "            break\n",
    "print(bads)"
   ]
  },
  {
   "cell_type": "code",
   "execution_count": 35,
   "id": "cd77fa91",
   "metadata": {
    "collapsed": false
   },
   "outputs": [
    {
     "name": "stdout",
     "output_type": "stream",
     "text": [
      "1 1 7 8\n",
      "[['/v'], ['/^'], ['\\\\^'], ['*^'], ['^*'], ['\\\\v']]\n"
     ]
    }
   ],
   "source": [
    "for i, binar in enumerate(binars):\n",
    "    bad = False\n",
    "    for x in range(10):\n",
    "        for y in range(10):\n",
    "            for z in range(10):\n",
    "                if (binar[\"/\"][x][binar[\"^\"][y][z]] != binar[\"v\"][binar[\"/\"][x][y]][binar[\"/\"][x][z]]):\n",
    "                    bad = True\n",
    "                    print(i, x, y, z)\n",
    "                    bads[i].append(\"/^\")\n",
    "                    break\n",
    "            if bad:\n",
    "                break\n",
    "        if bad:\n",
    "            break\n",
    "print(bads)"
   ]
  },
  {
   "cell_type": "code",
   "execution_count": null,
   "id": "daeea042",
   "metadata": {
    "collapsed": false
   },
   "outputs": [],
   "source": []
  }
 ],
 "metadata": {
  "kernelspec": {
   "argv": [
    "python",
    "-m",
    "ipykernel_launcher",
    "-f",
    "{connection_file}"
   ],
   "display_name": "Python 3 (ipykernel)",
   "env": null,
   "interrupt_mode": "signal",
   "language": "python",
   "metadata": {
    "debugger": true
   },
   "name": "python3"
  },
  "language_info": {
   "codemirror_mode": {
    "name": "ipython",
    "version": 3
   },
   "file_extension": ".py",
   "mimetype": "text/x-python",
   "name": "python",
   "nbconvert_exporter": "python",
   "pygments_lexer": "ipython3",
   "version": "3.6.14"
  },
  "name": "another-check.ipynb"
 },
 "nbformat": 4,
 "nbformat_minor": 5
}
