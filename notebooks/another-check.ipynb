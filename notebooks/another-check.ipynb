{
 "cells": [
  {
   "cell_type": "code",
   "execution_count": null,
   "id": "a65f6e77",
   "metadata": {},
   "outputs": [],
   "source": [
    "\"\"\"\n",
    "   Copyright 2021 Boris Shminke\n",
    "\n",
    "   Licensed under the Apache License, Version 2.0 (the \"License\");\n",
    "   you may not use this file except in compliance with the License.\n",
    "   You may obtain a copy of the License at\n",
    "\n",
    "       http://www.apache.org/licenses/LICENSE-2.0\n",
    "\n",
    "   Unless required by applicable law or agreed to in writing, software\n",
    "   distributed under the License is distributed on an \"AS IS\" BASIS,\n",
    "   WITHOUT WARRANTIES OR CONDITIONS OF ANY KIND, either express or implied.\n",
    "   See the License for the specific language governing permissions and\n",
    "   limitations under the License.\n",
    "\"\"\""
   ]
  },
  {
   "cell_type": "code",
   "execution_count": 29,
   "id": "d982ce45",
   "metadata": {},
   "outputs": [],
   "source": [
    "import pickle\n",
    "\n",
    "with open(\"/home/boris/Downloads/binars.pkl\", \"rb\") as f:\n",
    "    binars = pickle.load(f)\n",
    "bads = [list(), list(), list(), list(), list(), list()]"
   ]
  },
  {
   "cell_type": "code",
   "execution_count": 30,
   "id": "3d3d4695",
   "metadata": {},
   "outputs": [
    {
     "name": "stdout",
     "output_type": "stream",
     "text": [
      "3 2 2 8\n",
      "[[], [], [], ['*^'], [], []]\n"
     ]
    }
   ],
   "source": [
    "for i, binar in enumerate(binars):\n",
    "    bad = False\n",
    "    for x in range(10):\n",
    "        for y in range(10):\n",
    "            for z in range(10):\n",
    "                if (binar[\"*\"][x][binar[\"^\"][y][z]] != binar[\"^\"][binar[\"*\"][x][y]][binar[\"*\"][x][z]]):\n",
    "                    bad = True\n",
    "                    print(i, x, y, z)\n",
    "                    bads[i].append(\"*^\")\n",
    "                    break\n",
    "            if bad:\n",
    "                break\n",
    "        if bad:\n",
    "            break\n",
    "print(bads)"
   ]
  },
  {
   "cell_type": "code",
   "execution_count": 31,
   "id": "0870ca9e",
   "metadata": {},
   "outputs": [
    {
     "name": "stdout",
     "output_type": "stream",
     "text": [
      "4 3 9 2\n",
      "[[], [], [], ['*^'], ['^*'], []]\n"
     ]
    }
   ],
   "source": [
    "for i, binar in enumerate(binars):\n",
    "    bad = False\n",
    "    for x in range(10):\n",
    "        for y in range(10):\n",
    "            for z in range(10):\n",
    "                if (binar[\"*\"][binar[\"^\"][x][y]][z] != binar[\"^\"][binar[\"*\"][x][z]][binar[\"*\"][y][z]]):\n",
    "                    bad = True\n",
    "                    print(i, x, y, z)\n",
    "                    bads[i].append(\"^*\")\n",
    "                    break\n",
    "            if bad:\n",
    "                break\n",
    "        if bad:\n",
    "            break\n",
    "print(bads)"
   ]
  },
  {
   "cell_type": "code",
   "execution_count": 32,
   "id": "6e7cddce",
   "metadata": {},
   "outputs": [
    {
     "name": "stdout",
     "output_type": "stream",
     "text": [
      "5 6 3 7\n",
      "[[], [], [], ['*^'], ['^*'], ['\\\\v']]\n"
     ]
    }
   ],
   "source": [
    "for i, binar in enumerate(binars):\n",
    "    bad = False\n",
    "    for x in range(10):\n",
    "        for y in range(10):\n",
    "            for z in range(10):\n",
    "                if (binar[\"\\\\\"][x][binar[\"v\"][y][z]] != binar[\"v\"][binar[\"\\\\\"][x][y]][binar[\"\\\\\"][x][z]]):\n",
    "                    bad = True\n",
    "                    print(i, x, y, z)\n",
    "                    bads[i].append(\"\\\\v\")\n",
    "                    break\n",
    "            if bad:\n",
    "                break\n",
    "        if bad:\n",
    "            break\n",
    "print(bads)"
   ]
  },
  {
   "cell_type": "code",
   "execution_count": 33,
   "id": "f94becd2",
   "metadata": {},
   "outputs": [
    {
     "name": "stdout",
     "output_type": "stream",
     "text": [
      "0 4 8 1\n",
      "[['/v'], [], [], ['*^'], ['^*'], ['\\\\v']]\n"
     ]
    }
   ],
   "source": [
    "for i, binar in enumerate(binars):\n",
    "    bad = False\n",
    "    for x in range(10):\n",
    "        for y in range(10):\n",
    "            for z in range(10):\n",
    "                if (binar[\"/\"][binar[\"v\"][x][y]][z] != binar[\"v\"][binar[\"/\"][x][z]][binar[\"/\"][y][z]]):\n",
    "                    bad = True\n",
    "                    print(i, x, y, z)\n",
    "                    bads[i].append(\"/v\")\n",
    "                    break\n",
    "            if bad:\n",
    "                break\n",
    "        if bad:\n",
    "            break\n",
    "print(bads)"
   ]
  },
  {
   "cell_type": "code",
   "execution_count": 34,
   "id": "b43cd501",
   "metadata": {},
   "outputs": [
    {
     "name": "stdout",
     "output_type": "stream",
     "text": [
      "2 2 9 1\n",
      "[['/v'], [], ['\\\\^'], ['*^'], ['^*'], ['\\\\v']]\n"
     ]
    }
   ],
   "source": [
    "for i, binar in enumerate(binars):\n",
    "    bad = False\n",
    "    for x in range(10):\n",
    "        for y in range(10):\n",
    "            for z in range(10):\n",
    "                if (binar[\"\\\\\"][binar[\"^\"][x][y]][z] != binar[\"v\"][binar[\"\\\\\"][x][z]][binar[\"\\\\\"][y][z]]):\n",
    "                    bad = True\n",
    "                    print(i, x, y, z)\n",
    "                    bads[i].append(\"\\\\^\")\n",
    "                    break\n",
    "            if bad:\n",
    "                break\n",
    "        if bad:\n",
    "            break\n",
    "print(bads)"
   ]
  },
  {
   "cell_type": "code",
   "execution_count": 35,
   "id": "cd77fa91",
   "metadata": {},
   "outputs": [
    {
     "name": "stdout",
     "output_type": "stream",
     "text": [
      "1 1 7 8\n",
      "[['/v'], ['/^'], ['\\\\^'], ['*^'], ['^*'], ['\\\\v']]\n"
     ]
    }
   ],
   "source": [
    "for i, binar in enumerate(binars):\n",
    "    bad = False\n",
    "    for x in range(10):\n",
    "        for y in range(10):\n",
    "            for z in range(10):\n",
    "                if (binar[\"/\"][x][binar[\"^\"][y][z]] != binar[\"v\"][binar[\"/\"][x][y]][binar[\"/\"][x][z]]):\n",
    "                    bad = True\n",
    "                    print(i, x, y, z)\n",
    "                    bads[i].append(\"/^\")\n",
    "                    break\n",
    "            if bad:\n",
    "                break\n",
    "        if bad:\n",
    "            break\n",
    "print(bads)"
   ]
  },
  {
   "cell_type": "code",
   "execution_count": null,
   "id": "daeea042",
   "metadata": {},
   "outputs": [],
   "source": []
  }
 ],
 "metadata": {
  "kernelspec": {
   "display_name": "Python 3",
   "language": "python",
   "name": "python3"
  },
  "language_info": {
   "codemirror_mode": {
    "name": "ipython",
    "version": 3
   },
   "file_extension": ".py",
   "mimetype": "text/x-python",
   "name": "python",
   "nbconvert_exporter": "python",
   "pygments_lexer": "ipython3",
   "version": "3.9.9"
  },
  "name": "another-check.ipynb"
 },
 "nbformat": 4,
 "nbformat_minor": 5
}
