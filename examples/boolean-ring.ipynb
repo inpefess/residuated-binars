{
 "cells": [
  {
   "cell_type": "code",
   "execution_count": 2,
   "id": "ab53b67d",
   "metadata": {},
   "outputs": [
    {
     "data": {
      "text/plain": [
       "{'add': [[0, 1, 2, 3], [1, 0, 3, 2], [2, 3, 0, 1], [3, 2, 1, 0]], 'mult': [[0, 0, 0, 0], [0, 1, 2, 3], [0, 2, 2, 0], [0, 3, 0, 3]], 'neg': [0, 1, 2, 3]}"
      ]
     },
     "execution_count": 2,
     "metadata": {},
     "output_type": "execute_result"
    }
   ],
   "source": [
    "\"\"\"\n",
    "   Copyright 2021 Boris Shminke\n",
    "\n",
    "   Licensed under the Apache License, Version 2.0 (the \"License\");\n",
    "   you may not use this file except in compliance with the License.\n",
    "   You may obtain a copy of the License at\n",
    "\n",
    "       http://www.apache.org/licenses/LICENSE-2.0\n",
    "\n",
    "   Unless required by applicable law or agreed to in writing, software\n",
    "   distributed under the License is distributed on an \"AS IS\" BASIS,\n",
    "   WITHOUT WARRANTIES OR CONDITIONS OF ANY KIND, either express or implied.\n",
    "   See the License for the specific language governing permissions and\n",
    "   limitations under the License.\n",
    "\"\"\"\n",
    "\n",
    "import os\n",
    "import shutil\n",
    "\n",
    "from residuated_binars.boolean_ring import BooleanRing\n",
    "from residuated_binars.add_task import TaskType, add_task\n",
    "from residuated_binars.check_assumptions import check_assumptions\n",
    "from residuated_binars.constants import (\n",
    "    ASSOCIATIVITY,\n",
    "    COMMUTATIVITY,\n",
    "    LEFT_IDENTITY,\n",
    "    LEFT_INVERSE,\n",
    "    RIGHT_IDENTITY,\n",
    "    RIGHT_INVERSE,\n",
    "    LEFT_DISTRIBUTIVITY,\n",
    "    RIGHT_DISTRIBUTIVITY,\n",
    "    IDEMPOTENCE\n",
    ")\n",
    "from residuated_binars.generate_theories import generate_isabelle_theory_file\n",
    "from residuated_binars.parser import isabelle_response_to_algebra\n",
    "\n",
    "shutil.rmtree(\"hyp\", True)\n",
    "os.mkdir(\"hyp\")\n",
    "with open(\n",
    "    os.path.join(\"hyp\", \"BooleanRing.thy\"), \"w\", encoding=\"utf-8\"\n",
    ") as a_file:\n",
    "    a_file.write(\n",
    "        \"\\n\".join(\n",
    "            generate_isabelle_theory_file(\n",
    "                \"BooleanRing\",\n",
    "                [\n",
    "                    ASSOCIATIVITY.replace(\"f(\", \"add(\"),\n",
    "                    RIGHT_IDENTITY.replace(\"f(\", \"add(\").replace(\"1\", \"0\"),\n",
    "                    LEFT_IDENTITY.replace(\"f(\", \"add(\").replace(\"1\", \"0\"),\n",
    "                    LEFT_INVERSE.replace(\"f(\", \"add(\").replace(\"1\", \"0\").replace(\"g(\", \"neg(\"),\n",
    "                    RIGHT_INVERSE.replace(\"f(\", \"add(\").replace(\"1\", \"0\").replace(\"g(\", \"neg(\"),\n",
    "                    ASSOCIATIVITY.replace(\"f(\", \"mult(\"),\n",
    "                    LEFT_IDENTITY.replace(\"f(\", \"mult(\"), \n",
    "                    RIGHT_IDENTITY.replace(\"f(\", \"mult(\"),\n",
    "                    LEFT_DISTRIBUTIVITY.replace(\"f(\", \"mult(\").replace(\"g(\", \"add(\"), \n",
    "                    RIGHT_DISTRIBUTIVITY.replace(\"f(\", \"mult(\").replace(\"g(\", \"add(\"),\n",
    "                    IDEMPOTENCE.replace(\"f(\", \"mult(\")\n",
    "                ],\n",
    "                \"(not \" + COMMUTATIVITY.replace(\"f(\", \"add(\") + \")\",\n",
    "            )\n",
    "        )\n",
    "    )\n",
    "shutil.rmtree(\"task\", True)\n",
    "add_task(\"hyp\", \"task\", TaskType.NITPICK, 4)\n",
    "check_assumptions(\"task\")\n",
    "algebraic_structure = isabelle_response_to_algebra(\n",
    "    os.path.join(\"task\", \"isabelle.out\")\n",
    ")[0]\n",
    "BooleanRing(algebraic_structure.label, algebraic_structure.operations)"
   ]
  },
  {
   "cell_type": "code",
   "execution_count": null,
   "id": "35579c7d",
   "metadata": {},
   "outputs": [],
   "source": []
  }
 ],
 "metadata": {
  "kernelspec": {
   "display_name": "Python 3",
   "language": "python",
   "name": "python3"
  },
  "language_info": {
   "codemirror_mode": {
    "name": "ipython",
    "version": 3
   },
   "file_extension": ".py",
   "mimetype": "text/x-python",
   "name": "python",
   "nbconvert_exporter": "python",
   "pygments_lexer": "ipython3",
   "version": "3.9.9"
  },
  "name": "boolean-ring.ipynb"
 },
 "nbformat": 4,
 "nbformat_minor": 5
}
