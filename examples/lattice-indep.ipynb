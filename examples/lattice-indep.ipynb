{
 "cells": [
  {
   "cell_type": "markdown",
   "id": "3c36d029",
   "metadata": {
    "collapsed": false
   },
   "source": [
    "<pre>\n",
    "Copyright 2021-2022 Boris Shminke\n",
    "\n",
    "Licensed under the Apache License, Version 2.0 (the \"License\");\n",
    "you may not use this file except in compliance with the License.\n",
    "You may obtain a copy of the License at\n",
    "\n",
    "    http://www.apache.org/licenses/LICENSE-2.0\n",
    "\n",
    "Unless required by applicable law or agreed to in writing, software\n",
    "distributed under the License is distributed on an \"AS IS\" BASIS,\n",
    "WITHOUT WARRANTIES OR CONDITIONS OF ANY KIND, either express or implied.\n",
    "See the License for the specific language governing permissions and\n",
    "limitations under the License.\n",
    "</pre>"
   ]
  },
  {
   "cell_type": "code",
   "execution_count": 1,
   "id": "04f85de5",
   "metadata": {
    "collapsed": false
   },
   "outputs": [],
   "source": [
    "import nest_asyncio\n",
    "from isabelle_client import start_isabelle_server\n",
    "\n",
    "nest_asyncio.apply()\n",
    "# on Windows one should start Isabelle server using Cygwin\n",
    "# and paste `server_info` string here\n",
    "server_info, _ = start_isabelle_server()"
   ]
  },
  {
   "cell_type": "code",
   "execution_count": 2,
   "id": "cae6ec2d",
   "metadata": {
    "collapsed": false
   },
   "outputs": [
    {
     "name": "stdout",
     "output_type": "stream",
     "text": [
      "CPU times: user 63.4 ms, sys: 1.39 ms, total: 64.8 ms\n",
      "Wall time: 1min 15s\n"
     ]
    }
   ],
   "source": [
    "%%time\n",
    "# check that any lattice axiom is independent from all the rest\n",
    "from residuated_binars.constants import LATTICE\n",
    "from residuated_binars.use_nitpick import use_nitpick\n",
    "from residuated_binars.utils import remove_dirs\n",
    "\n",
    "remove_dirs((\"task*\", \"hyp*\"))\n",
    "max_dim = 10\n",
    "use_nitpick(\n",
    "    max_cardinality=max_dim,\n",
    "    independent_assumptions=[\n",
    "        # this is needed to skip the lattice axioms check\n",
    "        # what we are trying to find here are not real lattices\n",
    "        axiom.replace(\"join\", \"joan\")\n",
    "        for axiom in LATTICE\n",
    "    ],\n",
    "    additional_assumptions=[],\n",
    "    check_subset_independence=False,\n",
    "    server_info=server_info\n",
    ")"
   ]
  },
  {
   "cell_type": "code",
   "execution_count": 3,
   "id": "e420cac2",
   "metadata": {
    "collapsed": false
   },
   "outputs": [],
   "source": [
    "# in this package we have also a parser for Isabelle server responses\n",
    "import os\n",
    "from residuated_binars.parser import isabelle_response_to_algebra\n",
    "\n",
    "structures = []\n",
    "for i in range(2, max_dim):\n",
    "    try:\n",
    "        structures += isabelle_response_to_algebra(\n",
    "            os.path.join(\".\", f\"task{i}\", \"isabelle.out\")\n",
    "        )\n",
    "    except:\n",
    "        pass"
   ]
  },
  {
   "cell_type": "code",
   "execution_count": 4,
   "id": "7f8a15cb",
   "metadata": {
    "collapsed": false
   },
   "outputs": [
    {
     "name": "stdout",
     "output_type": "stream",
     "text": [
      "111110\n",
      "111101\n",
      "011111\n",
      "101111\n",
      "110111\n",
      "111011\n"
     ]
    }
   ],
   "source": [
    "# let's double check that structres found really respect all but one axiom each\n",
    "from residuated_binars.axiom_checkers import commutative, associative, absorbs\n",
    "\n",
    "for some in structures:\n",
    "    score = \"\"\n",
    "    score += \"1\" if commutative(some.operations[\"joan\"]) else \"0\"\n",
    "    score += \"1\" if commutative(some.operations[\"meet\"]) else \"0\"\n",
    "    score += \"1\" if associative(some.operations[\"joan\"]) else \"0\"\n",
    "    score += \"1\" if associative(some.operations[\"meet\"]) else \"0\"\n",
    "    score += \"1\" if absorbs(some.operations[\"meet\"], some.operations[\"joan\"]) else \"0\"\n",
    "    score += \"1\" if absorbs(some.operations[\"joan\"], some.operations[\"meet\"]) else \"0\"\n",
    "    print(score)    "
   ]
  }
 ],
 "metadata": {
  "kernelspec": {
   "argv": [
    "python",
    "-m",
    "ipykernel_launcher",
    "-f",
    "{connection_file}"
   ],
   "display_name": "Python 3 (ipykernel)",
   "env": null,
   "interrupt_mode": "signal",
   "language": "python",
   "metadata": {
    "debugger": true
   },
   "name": "python3"
  },
  "language_info": {
   "codemirror_mode": {
    "name": "ipython",
    "version": 3
   },
   "file_extension": ".py",
   "mimetype": "text/x-python",
   "name": "python",
   "nbconvert_exporter": "python",
   "pygments_lexer": "ipython3",
   "version": "3.9.9"
  },
  "name": "lattice-indep.ipynb"
 },
 "nbformat": 4,
 "nbformat_minor": 5
}
