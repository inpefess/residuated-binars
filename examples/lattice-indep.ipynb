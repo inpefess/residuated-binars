{
 "cells": [
  {
   "cell_type": "code",
   "execution_count": null,
   "id": "35f559be",
   "metadata": {},
   "outputs": [],
   "source": [
    "\"\"\"\n",
    "   Copyright 2021-2022 Boris Shminke\n",
    "\n",
    "   Licensed under the Apache License, Version 2.0 (the \"License\");\n",
    "   you may not use this file except in compliance with the License.\n",
    "   You may obtain a copy of the License at\n",
    "\n",
    "       http://www.apache.org/licenses/LICENSE-2.0\n",
    "\n",
    "   Unless required by applicable law or agreed to in writing, software\n",
    "   distributed under the License is distributed on an \"AS IS\" BASIS,\n",
    "   WITHOUT WARRANTIES OR CONDITIONS OF ANY KIND, either express or implied.\n",
    "   See the License for the specific language governing permissions and\n",
    "   limitations under the License.\n",
    "\"\"\""
   ]
  },
  {
   "cell_type": "code",
   "execution_count": 1,
   "id": "e4e7512c",
   "metadata": {},
   "outputs": [],
   "source": [
    "from glob import glob\n",
    "import os\n",
    "import shutil\n",
    "\n",
    "def remove_dirs() -> None:\n",
    "    for path in glob(os.path.join(\".\", \"hyp*\")):\n",
    "        shutil.rmtree(path)\n",
    "    for path in glob(os.path.join(\".\", \"task*\")):\n",
    "        shutil.rmtree(path)"
   ]
  },
  {
   "cell_type": "code",
   "execution_count": 2,
   "id": "6ec1de4f",
   "metadata": {},
   "outputs": [],
   "source": [
    "# check that any lattice axiom is independent from all the rest\n",
    "from residuated_binars.constants import LATTICE\n",
    "from residuated_binars.use_nitpick import use_nitpick\n",
    "\n",
    "remove_dirs()\n",
    "server_info = (\n",
    "    'server \"test\" = 127.0.0.1:36245 (password \"2dfdb3fb-4de2-4c20-9270-95fadd652880\")'\n",
    ")\n",
    "max_dim = 10\n",
    "use_nitpick(\n",
    "    max_cardinality=max_dim,\n",
    "    independent_assumptions=[\n",
    "        # this is needed to skip the lattice axioms check\n",
    "        # what we are trying to find here are not real lattices\n",
    "        axiom.replace(\"join\", \"joan\")\n",
    "        for axiom in LATTICE\n",
    "    ],\n",
    "    additional_assumptions=[],\n",
    "    check_subset_independence=False,\n",
    "    server_info=server_info\n",
    ")"
   ]
  },
  {
   "cell_type": "code",
   "execution_count": 3,
   "id": "f4a6a139",
   "metadata": {},
   "outputs": [],
   "source": [
    "# in this package we have also a parser for Isabelle server responses\n",
    "import os\n",
    "from residuated_binars.parser import isabelle_response_to_algebra\n",
    "\n",
    "structures = []\n",
    "for i in range(2, max_dim):\n",
    "    try:\n",
    "        structures += isabelle_response_to_algebra(\n",
    "            os.path.join(\".\", f\"task{i}\", \"isabelle.out\")\n",
    "        )\n",
    "    except:\n",
    "        pass"
   ]
  },
  {
   "cell_type": "code",
   "execution_count": 4,
   "id": "1dc886be",
   "metadata": {},
   "outputs": [
    {
     "name": "stdout",
     "output_type": "stream",
     "text": [
      "111110\n",
      "111101\n",
      "011111\n",
      "101111\n",
      "110111\n",
      "111011\n"
     ]
    }
   ],
   "source": [
    "from residuated_binars.axiom_checkers import commutative, associative, absorbs\n",
    "\n",
    "for some in structures:\n",
    "    score = \"\"\n",
    "    score += \"1\" if commutative(some.operations[\"joan\"]) else \"0\"\n",
    "    score += \"1\" if commutative(some.operations[\"meet\"]) else \"0\"\n",
    "    score += \"1\" if associative(some.operations[\"joan\"]) else \"0\"\n",
    "    score += \"1\" if associative(some.operations[\"meet\"]) else \"0\"\n",
    "    score += \"1\" if absorbs(some.operations[\"meet\"], some.operations[\"joan\"]) else \"0\"\n",
    "    score += \"1\" if absorbs(some.operations[\"joan\"], some.operations[\"meet\"]) else \"0\"\n",
    "    print(score)\n",
    "\n",
    "    "
   ]
  },
  {
   "cell_type": "code",
   "execution_count": null,
   "id": "baf32d8c",
   "metadata": {},
   "outputs": [],
   "source": []
  }
 ],
 "metadata": {
  "kernelspec": {
   "display_name": "Python 3",
   "language": "python",
   "name": "python3"
  },
  "language_info": {
   "codemirror_mode": {
    "name": "ipython",
    "version": 3
   },
   "file_extension": ".py",
   "mimetype": "text/x-python",
   "name": "python",
   "nbconvert_exporter": "python",
   "pygments_lexer": "ipython3",
   "version": "3.9.9"
  },
  "name": "lattice-idep.ipynb"
 },
 "nbformat": 4,
 "nbformat_minor": 5
}
