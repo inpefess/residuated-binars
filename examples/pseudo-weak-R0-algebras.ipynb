{
 "cells": [
  {
   "cell_type": "markdown",
   "id": "3a63efd4",
   "metadata": {},
   "source": [
    "<pre>\n",
    "Copyright 2022 Boris Shminke\n",
    "\n",
    "Licensed under the Apache License, Version 2.0 (the \"License\");\n",
    "you may not use this file except in compliance with the License.\n",
    "You may obtain a copy of the License at\n",
    "\n",
    "    http://www.apache.org/licenses/LICENSE-2.0\n",
    "\n",
    "Unless required by applicable law or agreed to in writing, software\n",
    "distributed under the License is distributed on an \"AS IS\" BASIS,\n",
    "WITHOUT WARRANTIES OR CONDITIONS OF ANY KIND, either express or implied.\n",
    "See the License for the specific language governing permissions and\n",
    "limitations under the License.\n",
    "</pre>"
   ]
  },
  {
   "cell_type": "markdown",
   "id": "8d1e5a86-2559-4ad5-af64-6ee480b2372c",
   "metadata": {},
   "source": [
    "In this notebook we try to reproduce another axiom independence theorem (Theorem 11 from https://doi.org/10.1155/2014/854168)"
   ]
  },
  {
   "cell_type": "code",
   "execution_count": 1,
   "id": "3d040f02",
   "metadata": {
    "jupyter": {
     "outputs_hidden": false
    }
   },
   "outputs": [],
   "source": [
    "import nest_asyncio\n",
    "from isabelle_client import start_isabelle_server\n",
    "\n",
    "nest_asyncio.apply()\n",
    "# on Windows one should start Isabelle server using Cygwin\n",
    "# and paste `server_info` string here\n",
    "server_info, _ = start_isabelle_server()"
   ]
  },
  {
   "cell_type": "code",
   "execution_count": 2,
   "id": "7bd25cd7",
   "metadata": {
    "jupyter": {
     "outputs_hidden": false
    }
   },
   "outputs": [
    {
     "name": "stdout",
     "output_type": "stream",
     "text": [
      "CPU times: user 30.6 ms, sys: 16.2 ms, total: 46.8 ms\n",
      "Wall time: 56.6 s\n"
     ]
    }
   ],
   "source": [
    "%%time\n",
    "# we apply the same pipeline, as can be seen in `lattice-indep.ipynb` file\n",
    "from residuated_binars.constants import LATTICE, BOUNDED_LATTICE, PSEUDO_R0_ALGEBRA\n",
    "from residuated_binars.use_nitpick import use_nitpick\n",
    "from residuated_binars.utils import remove_dirs\n",
    "\n",
    "remove_dirs((\"task*\", \"hyp*\"))\n",
    "MAX_DIM = 10\n",
    "use_nitpick(\n",
    "    max_cardinality=MAX_DIM,\n",
    "    independent_assumptions=PSEUDO_R0_ALGEBRA,\n",
    "    additional_assumptions=LATTICE + BOUNDED_LATTICE + [\n",
    "        \"(inv1(inv2(C1)) = C1)\", \"(inv2(inv1(C1)) = C1)\",\n",
    "        \"(inv1(inv2(C0)) = C0)\", \"(inv1(inv2(C0)) = C0)\"\n",
    "    ],\n",
    "    check_subset_independence=False,\n",
    "    server_info=server_info\n",
    ")"
   ]
  },
  {
   "cell_type": "code",
   "execution_count": 3,
   "id": "64080280",
   "metadata": {
    "jupyter": {
     "outputs_hidden": false
    }
   },
   "outputs": [],
   "source": [
    "import os\n",
    "from residuated_binars.parser import isabelle_response_to_algebra\n",
    "\n",
    "structures = []\n",
    "for i in range(MAX_DIM + 1):\n",
    "    try:\n",
    "        structures += isabelle_response_to_algebra(\n",
    "            os.path.join(\".\", f\"task{i}\", \"isabelle.out\")\n",
    "        )\n",
    "    except:\n",
    "        pass"
   ]
  },
  {
   "cell_type": "code",
   "execution_count": 4,
   "id": "e7d2d3f6",
   "metadata": {
    "jupyter": {
     "outputs_hidden": false
    }
   },
   "outputs": [
    {
     "data": {
      "text/plain": [
       "(('T0234_1', 2),\n",
       " ('T1234_0', 2),\n",
       " ('T0123_4', 4),\n",
       " ('T0124_3', 4),\n",
       " ('T0134_2', 4))"
      ]
     },
     "execution_count": 4,
     "metadata": {},
     "output_type": "execute_result"
    }
   ],
   "source": [
    "tuple((structure.label, structure.cardinality) for structure in structures)"
   ]
  },
  {
   "cell_type": "markdown",
   "id": "f9b65142-f49e-4d10-828f-92153afec34f",
   "metadata": {
    "jupyter": {
     "outputs_hidden": false
    }
   },
   "source": [
    "Interestingly, the counter-example cardinalities are no higher than 4, although in the original paper the author proposed a model of size eight (see Figure 1)."
   ]
  },
  {
   "cell_type": "code",
   "execution_count": 5,
   "id": "c01069d6",
   "metadata": {
    "jupyter": {
     "outputs_hidden": false
    }
   },
   "outputs": [
    {
     "name": "stdout",
     "output_type": "stream",
     "text": [
      "{'imp1': [[1, 1], [1, 1]], 'imp2': [[1, 1], [1, 1]], 'inv1': [0, 1], 'inv2': [0, 1], 'join': [[0, 1], [1, 1]], 'meet': [[0, 0], [0, 1]]}\n",
      "T0234_1: P2 axiom doesn't hold\n",
      "{'imp1': [[1, 1], [0, 1]], 'imp2': [[1, 1], [0, 1]], 'inv1': [0, 1], 'inv2': [0, 1], 'join': [[0, 1], [1, 1]], 'meet': [[0, 0], [0, 1]]}\n",
      "T1234_0: P1 axiom doesn't hold\n",
      "{'imp1': [[3, 3, 3, 3], [2, 3, 1, 3], [1, 3, 3, 3], [0, 1, 2, 3]], 'imp2': [[3, 3, 3, 3], [2, 3, 1, 3], [1, 3, 3, 3], [0, 1, 2, 3]], 'inv1': [3, 2, 1, 0], 'inv2': [3, 2, 1, 0], 'join': [[0, 1, 2, 3], [1, 1, 1, 3], [2, 1, 2, 3], [3, 3, 3, 3]], 'meet': [[0, 0, 0, 0], [0, 1, 2, 1], [0, 2, 2, 2], [0, 1, 2, 3]]}\n",
      "T0123_4: P5 axiom doesn't hold\n",
      "{'imp1': [[3, 3, 3, 3], [2, 3, 2, 3], [1, 1, 3, 3], [0, 1, 2, 3]], 'imp2': [[3, 3, 3, 3], [2, 3, 2, 3], [1, 1, 3, 3], [0, 1, 2, 3]], 'inv1': [3, 2, 1, 0], 'inv2': [3, 2, 1, 0], 'join': [[0, 1, 2, 3], [1, 1, 2, 3], [2, 2, 2, 3], [3, 3, 3, 3]], 'meet': [[0, 0, 0, 0], [0, 1, 1, 1], [0, 1, 2, 2], [0, 1, 2, 3]]}\n",
      "T0124_3: P4 axiom doesn't hold\n",
      "{'imp1': [[3, 3, 3, 3], [1, 3, 3, 3], [2, 3, 3, 3], [0, 1, 2, 3]], 'imp2': [[3, 3, 3, 3], [1, 3, 3, 3], [2, 3, 3, 3], [0, 1, 2, 3]], 'inv1': [3, 1, 2, 0], 'inv2': [3, 1, 2, 0], 'join': [[0, 1, 2, 3], [1, 1, 2, 3], [2, 2, 2, 3], [3, 3, 3, 3]], 'meet': [[0, 0, 0, 0], [0, 1, 1, 1], [0, 1, 2, 2], [0, 1, 2, 3]]}\n",
      "T0134_2: P3 axiom doesn't hold\n"
     ]
    }
   ],
   "source": [
    "# Now let's double-check the counter-examples found\n",
    "from residuated_binars.pseudo_r0_algebra import PseudoR0Algebra\n",
    "from residuated_binars.algebraic_structure import BOT, TOP\n",
    "\n",
    "for structure in structures:\n",
    "    new_map = {symbol: symbol for symbol in structure.symbols}\n",
    "    new_map.update({\"C0\": BOT, \"C1\": TOP})\n",
    "    structure.remap_symbols(new_map)\n",
    "    print(structure)\n",
    "    try:\n",
    "        PseudoR0Algebra(structure.label, structure.operations)\n",
    "    except ValueError as error:\n",
    "        print(f\"{structure.label}: {error}\")"
   ]
  },
  {
   "cell_type": "markdown",
   "id": "8ed3ce91",
   "metadata": {},
   "source": [
    "In the original paper, `inv1` and `inv2`, as well as `imp1` and `imp2` were often different. As we can see now, that was not at all necessary:"
   ]
  },
  {
   "cell_type": "code",
   "execution_count": 6,
   "id": "339b99ef",
   "metadata": {},
   "outputs": [],
   "source": [
    "for structure in structures:\n",
    "    assert structure.operations[\"inv1\"] == structure.operations[\"inv2\"]\n",
    "    assert structure.operations[\"imp1\"] == structure.operations[\"imp2\"]"
   ]
  },
  {
   "cell_type": "markdown",
   "id": "23474d27",
   "metadata": {},
   "source": [
    "Also, lattice reducts of models with the same dimensions are isomorphic"
   ]
  },
  {
   "cell_type": "code",
   "execution_count": 7,
   "id": "6b670183",
   "metadata": {},
   "outputs": [],
   "source": [
    "structures[2].remap_symbols({BOT: BOT, TOP: TOP, \"C2\": \"C3\", \"C3\": \"C2\"})\n",
    "assert structures[0].operations[\"meet\"] == structures[1].operations[\"meet\"]\n",
    "assert structures[0].operations[\"join\"] == structures[1].operations[\"join\"]\n",
    "for i in (3, 4):\n",
    "    assert structures[2].operations[\"meet\"] == structures[i].operations[\"meet\"]\n",
    "    assert structures[2].operations[\"join\"] == structures[i].operations[\"join\"]"
   ]
  },
  {
   "cell_type": "markdown",
   "id": "99d4b9a8",
   "metadata": {},
   "source": [
    "Moreover, even for counter-examples of size four, lattice reducts expresses nothing more complex than linear order (compare to Figure 1)."
   ]
  },
  {
   "cell_type": "code",
   "execution_count": 8,
   "id": "0e21766d",
   "metadata": {},
   "outputs": [
    {
     "data": {
      "image/svg+xml": [
       "<?xml version=\"1.0\" encoding=\"UTF-8\" standalone=\"no\"?>\n",
       "<!DOCTYPE svg PUBLIC \"-//W3C//DTD SVG 1.1//EN\"\n",
       " \"http://www.w3.org/Graphics/SVG/1.1/DTD/svg11.dtd\">\n",
       "<!-- Generated by graphviz version 2.43.0 (0)\n",
       " -->\n",
       "<!-- Title: %3 Pages: 1 -->\n",
       "<svg width=\"62pt\" height=\"260pt\"\n",
       " viewBox=\"0.00 0.00 62.00 260.00\" xmlns=\"http://www.w3.org/2000/svg\" xmlns:xlink=\"http://www.w3.org/1999/xlink\">\n",
       "<g id=\"graph0\" class=\"graph\" transform=\"scale(1 1) rotate(0) translate(4 256)\">\n",
       "<title>%3</title>\n",
       "<polygon fill=\"white\" stroke=\"transparent\" points=\"-4,4 -4,-256 58,-256 58,4 -4,4\"/>\n",
       "<!-- ⟙ -->\n",
       "<g id=\"node1\" class=\"node\">\n",
       "<title>⟙</title>\n",
       "<ellipse fill=\"none\" stroke=\"black\" cx=\"27\" cy=\"-234\" rx=\"27\" ry=\"18\"/>\n",
       "<text text-anchor=\"middle\" x=\"27\" y=\"-230.3\" font-family=\"Times,serif\" font-size=\"14.00\">⟙</text>\n",
       "</g>\n",
       "<!-- C3 -->\n",
       "<g id=\"node2\" class=\"node\">\n",
       "<title>C3</title>\n",
       "<ellipse fill=\"none\" stroke=\"black\" cx=\"27\" cy=\"-162\" rx=\"27\" ry=\"18\"/>\n",
       "<text text-anchor=\"middle\" x=\"27\" y=\"-158.3\" font-family=\"Times,serif\" font-size=\"14.00\">C3</text>\n",
       "</g>\n",
       "<!-- ⟙&#45;&#45;C3 -->\n",
       "<g id=\"edge1\" class=\"edge\">\n",
       "<title>⟙&#45;&#45;C3</title>\n",
       "<path fill=\"none\" stroke=\"black\" d=\"M27,-215.7C27,-204.85 27,-190.92 27,-180.1\"/>\n",
       "</g>\n",
       "<!-- C2 -->\n",
       "<g id=\"node3\" class=\"node\">\n",
       "<title>C2</title>\n",
       "<ellipse fill=\"none\" stroke=\"black\" cx=\"27\" cy=\"-90\" rx=\"27\" ry=\"18\"/>\n",
       "<text text-anchor=\"middle\" x=\"27\" y=\"-86.3\" font-family=\"Times,serif\" font-size=\"14.00\">C2</text>\n",
       "</g>\n",
       "<!-- C3&#45;&#45;C2 -->\n",
       "<g id=\"edge2\" class=\"edge\">\n",
       "<title>C3&#45;&#45;C2</title>\n",
       "<path fill=\"none\" stroke=\"black\" d=\"M27,-143.7C27,-132.85 27,-118.92 27,-108.1\"/>\n",
       "</g>\n",
       "<!-- ⟘ -->\n",
       "<g id=\"node4\" class=\"node\">\n",
       "<title>⟘</title>\n",
       "<ellipse fill=\"none\" stroke=\"black\" cx=\"27\" cy=\"-18\" rx=\"27\" ry=\"18\"/>\n",
       "<text text-anchor=\"middle\" x=\"27\" y=\"-14.3\" font-family=\"Times,serif\" font-size=\"14.00\">⟘</text>\n",
       "</g>\n",
       "<!-- C2&#45;&#45;⟘ -->\n",
       "<g id=\"edge3\" class=\"edge\">\n",
       "<title>C2&#45;&#45;⟘</title>\n",
       "<path fill=\"none\" stroke=\"black\" d=\"M27,-71.7C27,-60.85 27,-46.92 27,-36.1\"/>\n",
       "</g>\n",
       "</g>\n",
       "</svg>\n"
      ],
      "text/plain": [
       "<graphviz.graphs.Graph at 0x7fc5098f4be0>"
      ]
     },
     "execution_count": 8,
     "metadata": {},
     "output_type": "execute_result"
    }
   ],
   "source": [
    "from residuated_binars.bounded_lattice import BoundedLattice\n",
    "\n",
    "BoundedLattice(\"example\", structures[2].operations).graphviz_repr"
   ]
  }
 ],
 "metadata": {
  "kernelspec": {
   "display_name": "Python 3 (ipykernel)",
   "language": "python",
   "name": "python3"
  },
  "language_info": {
   "codemirror_mode": {
    "name": "ipython",
    "version": 3
   },
   "file_extension": ".py",
   "mimetype": "text/x-python",
   "name": "python",
   "nbconvert_exporter": "python",
   "pygments_lexer": "ipython3",
   "version": "3.9.9"
  },
  "name": "pseudo-weak-R0-algebras.ipynb"
 },
 "nbformat": 4,
 "nbformat_minor": 5
}
