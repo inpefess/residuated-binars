{
 "cells": [
  {
   "cell_type": "code",
   "execution_count": 1,
   "id": "7e3aff9e",
   "metadata": {},
   "outputs": [
    {
     "data": {
      "text/plain": [
       "{'add': [[0, 1, 2], [1, 2, 0], [2, 0, 1]], 'neg': [0, 2, 1]}"
      ]
     },
     "execution_count": 1,
     "metadata": {},
     "output_type": "execute_result"
    }
   ],
   "source": [
    "\"\"\"\n",
    "   Copyright 2021 Boris Shminke\n",
    "\n",
    "   Licensed under the Apache License, Version 2.0 (the \"License\");\n",
    "   you may not use this file except in compliance with the License.\n",
    "   You may obtain a copy of the License at\n",
    "\n",
    "       http://www.apache.org/licenses/LICENSE-2.0\n",
    "\n",
    "   Unless required by applicable law or agreed to in writing, software\n",
    "   distributed under the License is distributed on an \"AS IS\" BASIS,\n",
    "   WITHOUT WARRANTIES OR CONDITIONS OF ANY KIND, either express or implied.\n",
    "   See the License for the specific language governing permissions and\n",
    "   limitations under the License.\n",
    "\"\"\"\n",
    "\n",
    "import os\n",
    "import shutil\n",
    "\n",
    "from residuated_binars.abelian_group import AbelianGroup\n",
    "from residuated_binars.add_task import TaskType, add_task\n",
    "from residuated_binars.check_assumptions import check_assumptions\n",
    "from residuated_binars.constants import (\n",
    "    ASSOCIATIVITY,\n",
    "    COMMUTATIVITY,\n",
    "    LEFT_IDENTITY,\n",
    "    LEFT_INVERSE,\n",
    "    RIGHT_IDENTITY,\n",
    "    RIGHT_INVERSE,\n",
    ")\n",
    "from residuated_binars.generate_theories import generate_isabelle_theory_file\n",
    "from residuated_binars.parser import isabelle_response_to_algebra\n",
    "\n",
    "shutil.rmtree(\"hyp\", True)\n",
    "os.mkdir(\"hyp\")\n",
    "with open(\n",
    "    os.path.join(\"hyp\", \"AbelianGroup.thy\"), \"w\", encoding=\"utf-8\"\n",
    ") as a_file:\n",
    "    a_file.write(\n",
    "        \"\\n\".join(\n",
    "            generate_isabelle_theory_file(\n",
    "                \"AbelianGroup\",\n",
    "                [\n",
    "                    ASSOCIATIVITY,\n",
    "                    RIGHT_IDENTITY,\n",
    "                    LEFT_IDENTITY,\n",
    "                    LEFT_INVERSE,\n",
    "                    RIGHT_INVERSE,\n",
    "                ],\n",
    "                \"(not \" + COMMUTATIVITY + \")\",\n",
    "            )\n",
    "        )\n",
    "    )\n",
    "shutil.rmtree(\"task\", True)\n",
    "add_task(\"hyp\", \"task\", TaskType.NITPICK, 3)\n",
    "check_assumptions(\"task\")\n",
    "algebraic_structure = isabelle_response_to_algebra(\n",
    "    os.path.join(\"task\", \"isabelle.out\")\n",
    ")[0]\n",
    "algebraic_structure.remap_symbols({\"0\": \"a\", \"1\": \"0\", \"2\": \"b\"})\n",
    "AbelianGroup(\n",
    "    algebraic_structure.label,\n",
    "    {\n",
    "        \"add\": algebraic_structure.operations[\"f\"],\n",
    "        \"neg\": algebraic_structure.operations[\"g\"],\n",
    "    },\n",
    ")"
   ]
  },
  {
   "cell_type": "code",
   "execution_count": null,
   "id": "fa8adb84",
   "metadata": {},
   "outputs": [],
   "source": []
  }
 ],
 "metadata": {
  "kernelspec": {
   "display_name": "Python 3",
   "language": "python",
   "name": "python3"
  },
  "language_info": {
   "codemirror_mode": {
    "name": "ipython",
    "version": 3
   },
   "file_extension": ".py",
   "mimetype": "text/x-python",
   "name": "python",
   "nbconvert_exporter": "python",
   "pygments_lexer": "ipython3",
   "version": "3.9.9"
  },
  "name": "abelian-group.ipynb"
 },
 "nbformat": 4,
 "nbformat_minor": 5
}
