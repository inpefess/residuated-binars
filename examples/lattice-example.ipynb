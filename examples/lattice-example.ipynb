{
 "cells": [
  {
   "cell_type": "markdown",
   "id": "fb1fc7ac",
   "metadata": {},
   "source": [
    "This notebook is an example of using the `residuated-binars` package for looking for finite models of lattices."
   ]
  },
  {
   "cell_type": "code",
   "execution_count": 1,
   "id": "586c6918",
   "metadata": {
    "jupyter": {
     "outputs_hidden": false
    }
   },
   "outputs": [],
   "source": [
    "# First, let's prepare directories\n",
    "!rm -rf hyp task\n",
    "!mkdir hyp"
   ]
  },
  {
   "cell_type": "markdown",
   "id": "2e21c0c9",
   "metadata": {},
   "source": [
    "We use the `generate_isabelle_theory_file` function to write an [Isabelle](https://isabelle.in.tum.de/) theory file containing lattice axioms.\n",
    "\n",
    "This function writes a file containing a single lemma. So, we pass all but one lattice axiom as the `assumptions` argument and the negation of the last lattice axiom as the `goal`. A counter-example for such a 'lemma' will be exactly something obeying all the lattice axioms."
   ]
  },
  {
   "cell_type": "code",
   "execution_count": 2,
   "id": "373dd6a6",
   "metadata": {
    "jupyter": {
     "outputs_hidden": false
    }
   },
   "outputs": [
    {
     "name": "stdout",
     "output_type": "stream",
     "text": [
      "theory Lattice\r\n",
      "imports Main\r\n",
      "begin\r\n",
      "lemma \"(\r\n",
      "(\\<forall> x::nat. \\<forall> y::nat. meet(x, y) = meet(y, x)) &\r\n",
      "(\\<forall> x::nat. \\<forall> y::nat. join(x, y) = join(y, x)) &\r\n",
      "(\\<forall> x::nat. \\<forall> y::nat. \\<forall> z::nat. meet(x, meet(y, z)) = meet(meet(x, y), z)) &\r\n",
      "(\\<forall> x::nat. \\<forall> y::nat. \\<forall> z::nat. join(x, join(y, z)) = join(join(x, y), z)) &\r\n",
      "(\\<forall> x::nat. \\<forall> y::nat. meet(x, join(x, y)) = x)\r\n",
      ") \\<longrightarrow>\r\n",
      "((\\<forall> x::nat. \\<forall> y::nat. join(x, meet(x, y)) = x))\r\n",
      "\"\r\n",
      "oops\r\n",
      "end"
     ]
    }
   ],
   "source": [
    "from residuated_binars.constants import LATTICE\n",
    "from residuated_binars.generate_theories import generate_isabelle_theory_file\n",
    "\n",
    "with open(\"hyp/Lattice.thy\", \"w\") as theory:\n",
    "    theory.write(\n",
    "        \"\\n\".join(generate_isabelle_theory_file(\n",
    "            theory_name=\"Lattice\",\n",
    "            assumptions=LATTICE[:-1],\n",
    "            goal=\"(\" + LATTICE[-1] + \")\"\n",
    "        ))\n",
    "    )\n",
    "# notice the `oops` line. It means we provide no proof for our lemma\n",
    "!cat hyp/Lattice.thy"
   ]
  },
  {
   "cell_type": "markdown",
   "id": "3e7ec653",
   "metadata": {},
   "source": [
    "We need to add a task for Isabelle server to do something with our lemma. The `add_task` function supports two types of tasks:\n",
    "\n",
    "* [sledgehammer](https://isabelle.in.tum.de/dist/Isabelle2021-1/doc/sledgehammer.pdf) --- apply Automated Theorem Provers to find proof for a lemma (not our case)\n",
    "* [nitpick](https://isabelle.in.tum.de/dist/Isabelle2021-1/doc/nitpick.pdf) --- apply Satisfiability Modulo Theory solvers to find a counter-example for a lemma (that's what we want to do)\n",
    "\n",
    "The function `add_task` works with a folder of theory files and adds the same task for every theory file in a directory. It doesn't touch original files but creates a new directory with modified ones."
   ]
  },
  {
   "cell_type": "code",
   "execution_count": 3,
   "id": "b7323f51",
   "metadata": {
    "jupyter": {
     "outputs_hidden": false
    }
   },
   "outputs": [
    {
     "name": "stdout",
     "output_type": "stream",
     "text": [
      "Lattice.thy\n",
      "theory Lattice\n",
      "imports Main\n",
      "begin\n",
      "lemma \"(\n",
      "(\\<forall> x::nat. \\<forall> y::nat. meet(x, y) = meet(y, x)) &\n",
      "(\\<forall> x::nat. \\<forall> y::nat. join(x, y) = join(y, x)) &\n",
      "(\\<forall> x::nat. \\<forall> y::nat. \\<forall> z::nat. meet(x, meet(y, z)) = meet(meet(x, y), z)) &\n",
      "(\\<forall> x::nat. \\<forall> y::nat. \\<forall> z::nat. join(x, join(y, z)) = join(join(x, y), z)) &\n",
      "(\\<forall> x::nat. \\<forall> y::nat. meet(x, join(x, y)) = x)\n",
      ") \\<longrightarrow>\n",
      "((\\<forall> x::nat. \\<forall> y::nat. join(x, meet(x, y)) = x))\n",
      "\"\n",
      "nitpick[card nat=2,timeout=1000000,max_threads=0]\n",
      "oops\n",
      "end"
     ]
    }
   ],
   "source": [
    "from residuated_binars.add_task import add_task, TaskType\n",
    "\n",
    "# we search a minimal non-trivial example of a lattice, of size two\n",
    "add_task(\n",
    "    source_path=\"hyp\",\n",
    "    target_path=\"task\",\n",
    "    task_type=TaskType.NITPICK,\n",
    "    cardinality=2\n",
    ")\n",
    "# notice that since there was only one theory file in the `hyp` folder,\n",
    "# there is only one in the `task` folder.\n",
    "# there is only one theory file in the `task` folder too\n",
    "!ls task\n",
    "!cat task/Lattice.thy"
   ]
  },
  {
   "cell_type": "markdown",
   "id": "b39cfe4d",
   "metadata": {},
   "source": [
    "We use [isabelle-client](https://pypi.org/project/isabelle-client/) to send our theory files to the Isabelle server. The function `check_assumptions` is a wrapper for it. The Isabelle server processes all the theory files from a folder in parallel."
   ]
  },
  {
   "cell_type": "code",
   "execution_count": 4,
   "id": "188048e7",
   "metadata": {
    "jupyter": {
     "outputs_hidden": false
    }
   },
   "outputs": [
    {
     "name": "stdout",
     "output_type": "stream",
     "text": [
      "isabelle.out  Lattice.thy\r\n"
     ]
    }
   ],
   "source": [
    "from residuated_binars.check_assumptions import check_assumptions\n",
    "\n",
    "# notice that after running this command\n",
    "# there appears a new file `isabelle.out` in the `task` folder.\n",
    "# It contains the log of communication to the Isabelle server\n",
    "check_assumptions(\"task\")\n",
    "!ls task"
   ]
  },
  {
   "cell_type": "markdown",
   "id": "add042e3",
   "metadata": {},
   "source": [
    "`residuated-binars` provide a parser of Isabelle server logs for extracting models found by Nitpick. For now, it can parse models of lattices and residuated binars."
   ]
  },
  {
   "cell_type": "code",
   "execution_count": 5,
   "id": "277cb3e3",
   "metadata": {
    "jupyter": {
     "outputs_hidden": false
    }
   },
   "outputs": [],
   "source": [
    "from residuated_binars.parser import isabelle_response_to_algebra\n",
    "\n",
    "lattices = isabelle_response_to_algebra(\"task/isabelle.out\")"
   ]
  },
  {
   "cell_type": "code",
   "execution_count": 6,
   "id": "71261cae",
   "metadata": {
    "jupyter": {
     "outputs_hidden": false
    },
    "scrolled": true
   },
   "outputs": [
    {
     "data": {
      "text/plain": [
       "[{'join': [[0, 0], [0, 0]], 'meet': [[0, 1], [1, 1]]}]"
      ]
     },
     "execution_count": 6,
     "metadata": {},
     "output_type": "execute_result"
    }
   ],
   "source": [
    "# we have only one model since we had only one theory file\n",
    "# notice that all the results of join are zeros.\n",
    "# That makes zero the greatest element\n",
    "lattices"
   ]
  },
  {
   "cell_type": "code",
   "execution_count": 7,
   "id": "be5cf31b",
   "metadata": {
    "jupyter": {
     "outputs_hidden": false
    }
   },
   "outputs": [
    {
     "data": {
      "text/plain": [
       "[{'join': [[1, 1], [1, 1]], 'meet': [[0, 0], [0, 1]]}]"
      ]
     },
     "execution_count": 7,
     "metadata": {},
     "output_type": "execute_result"
    }
   ],
   "source": [
    "# we can rename symbols to make zero the smallest element\n",
    "lattices[0].canonise_symbols()\n",
    "lattices"
   ]
  },
  {
   "cell_type": "code",
   "execution_count": 8,
   "id": "9cd4ef1a",
   "metadata": {
    "jupyter": {
     "outputs_hidden": false
    }
   },
   "outputs": [
    {
     "data": {
      "image/svg+xml": [
       "<?xml version=\"1.0\" encoding=\"UTF-8\" standalone=\"no\"?>\n",
       "<!DOCTYPE svg PUBLIC \"-//W3C//DTD SVG 1.1//EN\"\n",
       " \"http://www.w3.org/Graphics/SVG/1.1/DTD/svg11.dtd\">\n",
       "<!-- Generated by graphviz version 2.43.0 (0)\n",
       " -->\n",
       "<!-- Title: %3 Pages: 1 -->\n",
       "<svg width=\"62pt\" height=\"116pt\"\n",
       " viewBox=\"0.00 0.00 62.00 116.00\" xmlns=\"http://www.w3.org/2000/svg\" xmlns:xlink=\"http://www.w3.org/1999/xlink\">\n",
       "<g id=\"graph0\" class=\"graph\" transform=\"scale(1 1) rotate(0) translate(4 112)\">\n",
       "<title>%3</title>\n",
       "<polygon fill=\"white\" stroke=\"transparent\" points=\"-4,4 -4,-112 58,-112 58,4 -4,4\"/>\n",
       "<!-- ⟙ -->\n",
       "<g id=\"node1\" class=\"node\">\n",
       "<title>⟙</title>\n",
       "<ellipse fill=\"none\" stroke=\"black\" cx=\"27\" cy=\"-90\" rx=\"27\" ry=\"18\"/>\n",
       "<text text-anchor=\"middle\" x=\"27\" y=\"-86.3\" font-family=\"Times,serif\" font-size=\"14.00\">⟙</text>\n",
       "</g>\n",
       "<!-- ⟘ -->\n",
       "<g id=\"node2\" class=\"node\">\n",
       "<title>⟘</title>\n",
       "<ellipse fill=\"none\" stroke=\"black\" cx=\"27\" cy=\"-18\" rx=\"27\" ry=\"18\"/>\n",
       "<text text-anchor=\"middle\" x=\"27\" y=\"-14.3\" font-family=\"Times,serif\" font-size=\"14.00\">⟘</text>\n",
       "</g>\n",
       "<!-- ⟙&#45;&#45;⟘ -->\n",
       "<g id=\"edge1\" class=\"edge\">\n",
       "<title>⟙&#45;&#45;⟘</title>\n",
       "<path fill=\"none\" stroke=\"black\" d=\"M27,-71.7C27,-60.85 27,-46.92 27,-36.1\"/>\n",
       "</g>\n",
       "</g>\n",
       "</svg>\n"
      ],
      "text/plain": [
       "<graphviz.graphs.Graph at 0x7f9008805ca0>"
      ]
     },
     "execution_count": 8,
     "metadata": {},
     "output_type": "execute_result"
    }
   ],
   "source": [
    "# we also can draw a Hasse diagram of the lattice\n",
    "# to get more intuition about its structure\n",
    "lattices[0].graphviz_repr"
   ]
  },
  {
   "cell_type": "code",
   "execution_count": 9,
   "id": "d9c28a3c",
   "metadata": {
    "jupyter": {
     "outputs_hidden": false
    },
    "scrolled": true
   },
   "outputs": [
    {
     "data": {
      "image/svg+xml": [
       "<?xml version=\"1.0\" encoding=\"UTF-8\" standalone=\"no\"?>\n",
       "<!DOCTYPE svg PUBLIC \"-//W3C//DTD SVG 1.1//EN\"\n",
       " \"http://www.w3.org/Graphics/SVG/1.1/DTD/svg11.dtd\">\n",
       "<!-- Generated by graphviz version 2.43.0 (0)\n",
       " -->\n",
       "<!-- Title: %3 Pages: 1 -->\n",
       "<svg width=\"206pt\" height=\"188pt\"\n",
       " viewBox=\"0.00 0.00 206.00 188.00\" xmlns=\"http://www.w3.org/2000/svg\" xmlns:xlink=\"http://www.w3.org/1999/xlink\">\n",
       "<g id=\"graph0\" class=\"graph\" transform=\"scale(1 1) rotate(0) translate(4 184)\">\n",
       "<title>%3</title>\n",
       "<polygon fill=\"white\" stroke=\"transparent\" points=\"-4,4 -4,-184 202,-184 202,4 -4,4\"/>\n",
       "<!-- ⟙ -->\n",
       "<g id=\"node1\" class=\"node\">\n",
       "<title>⟙</title>\n",
       "<ellipse fill=\"none\" stroke=\"black\" cx=\"99\" cy=\"-162\" rx=\"27\" ry=\"18\"/>\n",
       "<text text-anchor=\"middle\" x=\"99\" y=\"-158.3\" font-family=\"Times,serif\" font-size=\"14.00\">⟙</text>\n",
       "</g>\n",
       "<!-- a -->\n",
       "<g id=\"node2\" class=\"node\">\n",
       "<title>a</title>\n",
       "<ellipse fill=\"none\" stroke=\"black\" cx=\"27\" cy=\"-90\" rx=\"27\" ry=\"18\"/>\n",
       "<text text-anchor=\"middle\" x=\"27\" y=\"-86.3\" font-family=\"Times,serif\" font-size=\"14.00\">a</text>\n",
       "</g>\n",
       "<!-- ⟙&#45;&#45;a -->\n",
       "<g id=\"edge1\" class=\"edge\">\n",
       "<title>⟙&#45;&#45;a</title>\n",
       "<path fill=\"none\" stroke=\"black\" d=\"M84.43,-146.83C72.02,-134.77 54.27,-117.51 41.8,-105.38\"/>\n",
       "</g>\n",
       "<!-- c -->\n",
       "<g id=\"node3\" class=\"node\">\n",
       "<title>c</title>\n",
       "<ellipse fill=\"none\" stroke=\"black\" cx=\"99\" cy=\"-90\" rx=\"27\" ry=\"18\"/>\n",
       "<text text-anchor=\"middle\" x=\"99\" y=\"-86.3\" font-family=\"Times,serif\" font-size=\"14.00\">c</text>\n",
       "</g>\n",
       "<!-- ⟙&#45;&#45;c -->\n",
       "<g id=\"edge2\" class=\"edge\">\n",
       "<title>⟙&#45;&#45;c</title>\n",
       "<path fill=\"none\" stroke=\"black\" d=\"M99,-143.7C99,-132.85 99,-118.92 99,-108.1\"/>\n",
       "</g>\n",
       "<!-- b -->\n",
       "<g id=\"node4\" class=\"node\">\n",
       "<title>b</title>\n",
       "<ellipse fill=\"none\" stroke=\"black\" cx=\"171\" cy=\"-90\" rx=\"27\" ry=\"18\"/>\n",
       "<text text-anchor=\"middle\" x=\"171\" y=\"-86.3\" font-family=\"Times,serif\" font-size=\"14.00\">b</text>\n",
       "</g>\n",
       "<!-- ⟙&#45;&#45;b -->\n",
       "<g id=\"edge3\" class=\"edge\">\n",
       "<title>⟙&#45;&#45;b</title>\n",
       "<path fill=\"none\" stroke=\"black\" d=\"M113.57,-146.83C125.98,-134.77 143.73,-117.51 156.2,-105.38\"/>\n",
       "</g>\n",
       "<!-- ⟘ -->\n",
       "<g id=\"node5\" class=\"node\">\n",
       "<title>⟘</title>\n",
       "<ellipse fill=\"none\" stroke=\"black\" cx=\"99\" cy=\"-18\" rx=\"27\" ry=\"18\"/>\n",
       "<text text-anchor=\"middle\" x=\"99\" y=\"-14.3\" font-family=\"Times,serif\" font-size=\"14.00\">⟘</text>\n",
       "</g>\n",
       "<!-- a&#45;&#45;⟘ -->\n",
       "<g id=\"edge4\" class=\"edge\">\n",
       "<title>a&#45;&#45;⟘</title>\n",
       "<path fill=\"none\" stroke=\"black\" d=\"M41.57,-74.83C53.98,-62.77 71.73,-45.51 84.2,-33.38\"/>\n",
       "</g>\n",
       "<!-- c&#45;&#45;⟘ -->\n",
       "<g id=\"edge6\" class=\"edge\">\n",
       "<title>c&#45;&#45;⟘</title>\n",
       "<path fill=\"none\" stroke=\"black\" d=\"M99,-71.7C99,-60.85 99,-46.92 99,-36.1\"/>\n",
       "</g>\n",
       "<!-- b&#45;&#45;⟘ -->\n",
       "<g id=\"edge5\" class=\"edge\">\n",
       "<title>b&#45;&#45;⟘</title>\n",
       "<path fill=\"none\" stroke=\"black\" d=\"M156.43,-74.83C144.02,-62.77 126.27,-45.51 113.8,-33.38\"/>\n",
       "</g>\n",
       "</g>\n",
       "</svg>\n"
      ],
      "text/plain": [
       "<graphviz.graphs.Graph at 0x7f9008805fd0>"
      ]
     },
     "execution_count": 9,
     "metadata": {},
     "output_type": "execute_result"
    }
   ],
   "source": [
    "# here is an example of a lattice that is modular but not distributive\n",
    "from residuated_binars.constants import RIGHT_DISTRIBUTIVITY, MODULARITY\n",
    "\n",
    "!rm -rf hyp task; mkdir hyp\n",
    "with open(\"hyp/Lattice.thy\", \"w\") as theory:\n",
    "    theory.write(\n",
    "        \"\\n\".join(generate_isabelle_theory_file(\n",
    "            theory_name=\"Lattice\",\n",
    "            assumptions=LATTICE + [MODULARITY],\n",
    "            goal=(\n",
    "                RIGHT_DISTRIBUTIVITY\n",
    "                .replace(\"f(\", \"meet(\")\n",
    "                .replace(\"g(\", \"join(\")\n",
    "            )\n",
    "        ))\n",
    "    )\n",
    "add_task(\"hyp\", \"task\", TaskType.NITPICK, 5)\n",
    "check_assumptions(\"task\")\n",
    "lattices = isabelle_response_to_algebra(\"task/isabelle.out\")\n",
    "lattices[0].canonise_symbols()\n",
    "lattices[0].graphviz_repr"
   ]
  },
  {
   "cell_type": "code",
   "execution_count": null,
   "id": "174d8767",
   "metadata": {
    "jupyter": {
     "outputs_hidden": false
    }
   },
   "outputs": [],
   "source": [
    "# and an example of a lattice that is not modular\n",
    "!rm -rf hyp task; mkdir hyp\n",
    "with open(\"hyp/Lattice.thy\", \"w\") as theory:\n",
    "    theory.write(\n",
    "        \"\\n\".join(generate_isabelle_theory_file(\n",
    "            theory_name=\"Lattice\",\n",
    "            assumptions=LATTICE,\n",
    "            goal=MODULARITY\n",
    "        ))\n",
    "    )\n",
    "add_task(\"hyp\", \"task\", TaskType.NITPICK, 5)\n",
    "check_assumptions(\"task\")\n",
    "lattices = isabelle_response_to_algebra(\"task/isabelle.out\")\n",
    "lattices[0].canonise_symbols()\n",
    "lattices[0].graphviz_repr"
   ]
  },
  {
   "cell_type": "code",
   "execution_count": 11,
   "id": "5120361b",
   "metadata": {
    "jupyter": {
     "outputs_hidden": false
    }
   },
   "outputs": [],
   "source": [
    "# here is an example of automatic proof that\n",
    "# every distributive lattice is also modular\n",
    "!rm -rf hyp task; mkdir hyp\n",
    "with open(\"hyp/Lattice.thy\", \"w\") as theory:\n",
    "    theory.write(\n",
    "        \"\\n\".join(generate_isabelle_theory_file(\n",
    "            theory_name=\"Lattice\",\n",
    "            assumptions=LATTICE + [\n",
    "                RIGHT_DISTRIBUTIVITY\n",
    "                .replace(\"f(\", \"meet(\")\n",
    "                .replace(\"g(\", \"join(\")\n",
    "            ],\n",
    "            goal=MODULARITY\n",
    "        ))\n",
    "    )\n",
    "add_task(\"hyp\", \"task\", TaskType.SLEDGEHAMMER)\n",
    "check_assumptions(\"task\")"
   ]
  },
  {
   "cell_type": "code",
   "execution_count": 12,
   "id": "edd577c2",
   "metadata": {
    "jupyter": {
     "outputs_hidden": false
    }
   },
   "outputs": [
    {
     "name": "stdout",
     "output_type": "stream",
     "text": [
      "FINISHED {\"ok\":true,\"errors\":[],\"nodes\":[{\"messages\":[{\"kind\":\"writeln\",\"message\":\"Sledgehammering...\",\"pos\":{\"line\":15,\"offset\":569,\"end_offset\":581,\"file\":\"/home/isabelle/task/Lattice.thy\"}},{\"kind\":\"writeln\",\"message\":\"\\\"vampire\\\": Error: The Vampire prover is not activated; to activate it, set\\n                  the Isabelle system option \\\"vampire_noncommercial\\\" to\\n                  \\\"yes\\\" (e.g. via the Isabelle/jEdit menu Plugin Options /\\n                  Isabelle / General)\\n\",\"pos\":{\"line\":15,\"offset\":569,\"end_offset\":581,\"file\":\"/home/isabelle/task/Lattice.thy\"}},{\"kind\":\"writeln\",\"message\":\"Proof found...\",\"pos\":{\"line\":15,\"offset\":569,\"end_offset\":581,\"file\":\"/home/isabelle/task/Lattice.thy\"}},{\"kind\":\"writeln\",\"message\":\"\\\"cvc4\\\": Try this: by (smt (verit, del_insts)) (774 ms)\",\"pos\":{\"line\":15,\"offset\":569,\"end_offset\":581,\"file\":\"/home/isabelle/task/Lattice.thy\"}},{\"kind\":\"writeln\",\"message\":\"\\\"verit\\\": Try this: by (smt (verit)) (767 ms)\",\"pos\":{\"line\":15,\"offset\":569,\"end_offset\":581,\"file\":\"/home/isabelle/task/Lattice.thy\"}},{\"kind\":\"writeln\",\"message\":\"\\\"spass\\\": Try this: by (smt (verit)) (494 ms)\",\"pos\":{\"line\":15,\"offset\":569,\"end_offset\":581,\"file\":\"/home/isabelle/task/Lattice.thy\"}},{\"kind\":\"writeln\",\"message\":\"\\\"z3\\\": Try this: by (smt (verit, best)) (348 ms)\",\"pos\":{\"line\":15,\"offset\":569,\"end_offset\":581,\"file\":\"/home/isabelle/task/Lattice.thy\"}},{\"kind\":\"writeln\",\"message\":\"\\\"e\\\": Try this: by (smt (verit)) (626 ms)\",\"pos\":{\"line\":15,\"offset\":569,\"end_offset\":581,\"file\":\"/home/isabelle/task/Lattice.thy\"}}],\"exports\":[],\"status\":{\"percentage\":100,\"unprocessed\":0,\"running\":0,\"finished\":9,\"failed\":0,\"total\":9,\"consolidated\":true,\"canceled\":false,\"ok\":true,\"warned\":0},\"theory_name\":\"Draft.Lattice\",\"node_name\":\"/home/isabelle/task/Lattice.thy\"}],\"task\":\"bd85212f-b121-43ca-8765-97167bcf3b02\"}\n"
     ]
    }
   ],
   "source": [
    "!grep \"Proof found\" ./task/isabelle.out"
   ]
  },
  {
   "cell_type": "code",
   "execution_count": null,
   "id": "48d8a103",
   "metadata": {
    "jupyter": {
     "outputs_hidden": false
    }
   },
   "outputs": [],
   "source": []
  }
 ],
 "metadata": {
  "kernelspec": {
   "display_name": "Python 3 (ipykernel)",
   "language": "python",
   "name": "python3"
  },
  "language_info": {
   "codemirror_mode": {
    "name": "ipython",
    "version": 3
   },
   "file_extension": ".py",
   "mimetype": "text/x-python",
   "name": "python",
   "nbconvert_exporter": "python",
   "pygments_lexer": "ipython3",
   "version": "3.9.9"
  },
  "name": "lattice-example.ipynb"
 },
 "nbformat": 4,
 "nbformat_minor": 5
}
