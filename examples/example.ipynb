{
 "cells": [
  {
   "cell_type": "code",
   "execution_count": 4,
   "id": "65e835af",
   "metadata": {
    "collapsed": false
   },
   "outputs": [],
   "source": [
    "# this part is needed to run ``isabelle-client`` from Jupyter\n",
    "import nest_asyncio\n",
    "\n",
    "nest_asyncio.apply()"
   ]
  },
  {
   "cell_type": "code",
   "execution_count": 10,
   "id": "120224f8",
   "metadata": {
    "collapsed": false
   },
   "outputs": [],
   "source": [
    "# this is the main function used to get the results from a paper\n",
    "# to reproduce everything, set ``max_cardinality`` to 10\n",
    "from residuated_binars.use_nitpick import use_nitpick\n",
    "\n",
    "use_nitpick(max_cardinality=2)"
   ]
  },
  {
   "cell_type": "code",
   "execution_count": null,
   "id": "37765e1e",
   "metadata": {
    "collapsed": false
   },
   "outputs": [],
   "source": []
  }
 ],
 "metadata": {
  "kernelspec": {
   "argv": [
    "python",
    "-m",
    "ipykernel_launcher",
    "-f",
    "{connection_file}"
   ],
   "display_name": "Python 3 (ipykernel)",
   "env": null,
   "interrupt_mode": "signal",
   "language": "python",
   "metadata": {
    "debugger": true
   },
   "name": "python3"
  },
  "name": "example.ipynb"
 },
 "nbformat": 4,
 "nbformat_minor": 5
}
